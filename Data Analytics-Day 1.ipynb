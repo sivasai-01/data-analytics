{
 "cells": [
  {
   "cell_type": "code",
   "execution_count": 4,
   "id": "469fdc25",
   "metadata": {},
   "outputs": [
    {
     "name": "stdout",
     "output_type": "stream",
     "text": [
      "4\n",
      "Enter the numbers:34756 84568 45658 56494\n",
      "22\n"
     ]
    }
   ],
   "source": [
    "n=int(input())\n",
    "b,c=[],[]\n",
    "a=list(map(int,input(\"Enter the numbers:\").split()))\n",
    "for i in a:\n",
    "    b.append(str(i))\n",
    "#print(b)\n",
    "for i in range(len(b)):\n",
    "    c.append(int(b[i][len(b[i])//2]))\n",
    "print(sum(c))"
   ]
  },
  {
   "cell_type": "markdown",
   "id": "3e403056",
   "metadata": {},
   "source": [
    "## DATA ANALYSIS\n",
    "**meaningful information said to be DATA"
   ]
  },
  {
   "cell_type": "markdown",
   "id": "89fc7940",
   "metadata": {},
   "source": [
    "## importing Modules\n",
    "- Numpy\n",
    "- pandas"
   ]
  },
  {
   "cell_type": "markdown",
   "id": "f5d70f7a",
   "metadata": {},
   "source": [
    "## Numpy is Numerical Python\n",
    "- deal with array type of data,Scientific Computation"
   ]
  },
  {
   "cell_type": "code",
   "execution_count": 5,
   "id": "5333857a",
   "metadata": {},
   "outputs": [],
   "source": [
    "import numpy as np"
   ]
  },
  {
   "cell_type": "code",
   "execution_count": 6,
   "id": "3b668382",
   "metadata": {},
   "outputs": [
    {
     "data": {
      "text/plain": [
       "'1.20.1'"
      ]
     },
     "execution_count": 6,
     "metadata": {},
     "output_type": "execute_result"
    }
   ],
   "source": [
    "np.__version__"
   ]
  },
  {
   "cell_type": "code",
   "execution_count": 7,
   "id": "287641c3",
   "metadata": {},
   "outputs": [
    {
     "data": {
      "text/plain": [
       "['ALLOW_THREADS',\n",
       " 'AxisError',\n",
       " 'BUFSIZE',\n",
       " 'Bytes0',\n",
       " 'CLIP',\n",
       " 'ComplexWarning',\n",
       " 'DataSource',\n",
       " 'Datetime64',\n",
       " 'ERR_CALL',\n",
       " 'ERR_DEFAULT',\n",
       " 'ERR_IGNORE',\n",
       " 'ERR_LOG',\n",
       " 'ERR_PRINT',\n",
       " 'ERR_RAISE',\n",
       " 'ERR_WARN',\n",
       " 'FLOATING_POINT_SUPPORT',\n",
       " 'FPE_DIVIDEBYZERO',\n",
       " 'FPE_INVALID',\n",
       " 'FPE_OVERFLOW',\n",
       " 'FPE_UNDERFLOW',\n",
       " 'False_',\n",
       " 'Inf',\n",
       " 'Infinity',\n",
       " 'MAXDIMS',\n",
       " 'MAY_SHARE_BOUNDS',\n",
       " 'MAY_SHARE_EXACT',\n",
       " 'MachAr',\n",
       " 'ModuleDeprecationWarning',\n",
       " 'NAN',\n",
       " 'NINF',\n",
       " 'NZERO',\n",
       " 'NaN',\n",
       " 'PINF',\n",
       " 'PZERO',\n",
       " 'RAISE',\n",
       " 'RankWarning',\n",
       " 'SHIFT_DIVIDEBYZERO',\n",
       " 'SHIFT_INVALID',\n",
       " 'SHIFT_OVERFLOW',\n",
       " 'SHIFT_UNDERFLOW',\n",
       " 'ScalarType',\n",
       " 'Str0',\n",
       " 'Tester',\n",
       " 'TooHardError',\n",
       " 'True_',\n",
       " 'UFUNC_BUFSIZE_DEFAULT',\n",
       " 'UFUNC_PYVALS_NAME',\n",
       " 'Uint64',\n",
       " 'VisibleDeprecationWarning',\n",
       " 'WRAP',\n",
       " '_NoValue',\n",
       " '_UFUNC_API',\n",
       " '__NUMPY_SETUP__',\n",
       " '__all__',\n",
       " '__builtins__',\n",
       " '__cached__',\n",
       " '__config__',\n",
       " '__deprecated_attrs__',\n",
       " '__dir__',\n",
       " '__doc__',\n",
       " '__expired_functions__',\n",
       " '__file__',\n",
       " '__getattr__',\n",
       " '__git_revision__',\n",
       " '__loader__',\n",
       " '__mkl_version__',\n",
       " '__name__',\n",
       " '__package__',\n",
       " '__path__',\n",
       " '__spec__',\n",
       " '__version__',\n",
       " '_add_newdoc_ufunc',\n",
       " '_distributor_init',\n",
       " '_financial_names',\n",
       " '_globals',\n",
       " '_mat',\n",
       " '_pytesttester',\n",
       " 'abs',\n",
       " 'absolute',\n",
       " 'add',\n",
       " 'add_docstring',\n",
       " 'add_newdoc',\n",
       " 'add_newdoc_ufunc',\n",
       " 'alen',\n",
       " 'all',\n",
       " 'allclose',\n",
       " 'alltrue',\n",
       " 'amax',\n",
       " 'amin',\n",
       " 'angle',\n",
       " 'any',\n",
       " 'append',\n",
       " 'apply_along_axis',\n",
       " 'apply_over_axes',\n",
       " 'arange',\n",
       " 'arccos',\n",
       " 'arccosh',\n",
       " 'arcsin',\n",
       " 'arcsinh',\n",
       " 'arctan',\n",
       " 'arctan2',\n",
       " 'arctanh',\n",
       " 'argmax',\n",
       " 'argmin',\n",
       " 'argpartition',\n",
       " 'argsort',\n",
       " 'argwhere',\n",
       " 'around',\n",
       " 'array',\n",
       " 'array2string',\n",
       " 'array_equal',\n",
       " 'array_equiv',\n",
       " 'array_repr',\n",
       " 'array_split',\n",
       " 'array_str',\n",
       " 'asanyarray',\n",
       " 'asarray',\n",
       " 'asarray_chkfinite',\n",
       " 'ascontiguousarray',\n",
       " 'asfarray',\n",
       " 'asfortranarray',\n",
       " 'asmatrix',\n",
       " 'asscalar',\n",
       " 'atleast_1d',\n",
       " 'atleast_2d',\n",
       " 'atleast_3d',\n",
       " 'average',\n",
       " 'bartlett',\n",
       " 'base_repr',\n",
       " 'binary_repr',\n",
       " 'bincount',\n",
       " 'bitwise_and',\n",
       " 'bitwise_not',\n",
       " 'bitwise_or',\n",
       " 'bitwise_xor',\n",
       " 'blackman',\n",
       " 'block',\n",
       " 'bmat',\n",
       " 'bool8',\n",
       " 'bool_',\n",
       " 'broadcast',\n",
       " 'broadcast_arrays',\n",
       " 'broadcast_shapes',\n",
       " 'broadcast_to',\n",
       " 'busday_count',\n",
       " 'busday_offset',\n",
       " 'busdaycalendar',\n",
       " 'byte',\n",
       " 'byte_bounds',\n",
       " 'bytes0',\n",
       " 'bytes_',\n",
       " 'c_',\n",
       " 'can_cast',\n",
       " 'cast',\n",
       " 'cbrt',\n",
       " 'cdouble',\n",
       " 'ceil',\n",
       " 'cfloat',\n",
       " 'char',\n",
       " 'character',\n",
       " 'chararray',\n",
       " 'choose',\n",
       " 'clip',\n",
       " 'clongdouble',\n",
       " 'clongfloat',\n",
       " 'column_stack',\n",
       " 'common_type',\n",
       " 'compare_chararrays',\n",
       " 'compat',\n",
       " 'complex128',\n",
       " 'complex64',\n",
       " 'complex_',\n",
       " 'complexfloating',\n",
       " 'compress',\n",
       " 'concatenate',\n",
       " 'conj',\n",
       " 'conjugate',\n",
       " 'convolve',\n",
       " 'copy',\n",
       " 'copysign',\n",
       " 'copyto',\n",
       " 'core',\n",
       " 'corrcoef',\n",
       " 'correlate',\n",
       " 'cos',\n",
       " 'cosh',\n",
       " 'count_nonzero',\n",
       " 'cov',\n",
       " 'cross',\n",
       " 'csingle',\n",
       " 'ctypeslib',\n",
       " 'cumprod',\n",
       " 'cumproduct',\n",
       " 'cumsum',\n",
       " 'datetime64',\n",
       " 'datetime_as_string',\n",
       " 'datetime_data',\n",
       " 'deg2rad',\n",
       " 'degrees',\n",
       " 'delete',\n",
       " 'deprecate',\n",
       " 'deprecate_with_doc',\n",
       " 'diag',\n",
       " 'diag_indices',\n",
       " 'diag_indices_from',\n",
       " 'diagflat',\n",
       " 'diagonal',\n",
       " 'diff',\n",
       " 'digitize',\n",
       " 'disp',\n",
       " 'divide',\n",
       " 'divmod',\n",
       " 'dot',\n",
       " 'double',\n",
       " 'dsplit',\n",
       " 'dstack',\n",
       " 'dtype',\n",
       " 'e',\n",
       " 'ediff1d',\n",
       " 'einsum',\n",
       " 'einsum_path',\n",
       " 'emath',\n",
       " 'empty',\n",
       " 'empty_like',\n",
       " 'equal',\n",
       " 'errstate',\n",
       " 'euler_gamma',\n",
       " 'exp',\n",
       " 'exp2',\n",
       " 'expand_dims',\n",
       " 'expm1',\n",
       " 'extract',\n",
       " 'eye',\n",
       " 'fabs',\n",
       " 'fastCopyAndTranspose',\n",
       " 'fft',\n",
       " 'fill_diagonal',\n",
       " 'find_common_type',\n",
       " 'finfo',\n",
       " 'fix',\n",
       " 'flatiter',\n",
       " 'flatnonzero',\n",
       " 'flexible',\n",
       " 'flip',\n",
       " 'fliplr',\n",
       " 'flipud',\n",
       " 'float16',\n",
       " 'float32',\n",
       " 'float64',\n",
       " 'float_',\n",
       " 'float_power',\n",
       " 'floating',\n",
       " 'floor',\n",
       " 'floor_divide',\n",
       " 'fmax',\n",
       " 'fmin',\n",
       " 'fmod',\n",
       " 'format_float_positional',\n",
       " 'format_float_scientific',\n",
       " 'format_parser',\n",
       " 'frexp',\n",
       " 'frombuffer',\n",
       " 'fromfile',\n",
       " 'fromfunction',\n",
       " 'fromiter',\n",
       " 'frompyfunc',\n",
       " 'fromregex',\n",
       " 'fromstring',\n",
       " 'full',\n",
       " 'full_like',\n",
       " 'gcd',\n",
       " 'generic',\n",
       " 'genfromtxt',\n",
       " 'geomspace',\n",
       " 'get_array_wrap',\n",
       " 'get_include',\n",
       " 'get_printoptions',\n",
       " 'getbufsize',\n",
       " 'geterr',\n",
       " 'geterrcall',\n",
       " 'geterrobj',\n",
       " 'gradient',\n",
       " 'greater',\n",
       " 'greater_equal',\n",
       " 'half',\n",
       " 'hamming',\n",
       " 'hanning',\n",
       " 'heaviside',\n",
       " 'histogram',\n",
       " 'histogram2d',\n",
       " 'histogram_bin_edges',\n",
       " 'histogramdd',\n",
       " 'hsplit',\n",
       " 'hstack',\n",
       " 'hypot',\n",
       " 'i0',\n",
       " 'identity',\n",
       " 'iinfo',\n",
       " 'imag',\n",
       " 'in1d',\n",
       " 'index_exp',\n",
       " 'indices',\n",
       " 'inexact',\n",
       " 'inf',\n",
       " 'info',\n",
       " 'infty',\n",
       " 'inner',\n",
       " 'insert',\n",
       " 'int0',\n",
       " 'int16',\n",
       " 'int32',\n",
       " 'int64',\n",
       " 'int8',\n",
       " 'int_',\n",
       " 'intc',\n",
       " 'integer',\n",
       " 'interp',\n",
       " 'intersect1d',\n",
       " 'intp',\n",
       " 'invert',\n",
       " 'is_busday',\n",
       " 'isclose',\n",
       " 'iscomplex',\n",
       " 'iscomplexobj',\n",
       " 'isfinite',\n",
       " 'isfortran',\n",
       " 'isin',\n",
       " 'isinf',\n",
       " 'isnan',\n",
       " 'isnat',\n",
       " 'isneginf',\n",
       " 'isposinf',\n",
       " 'isreal',\n",
       " 'isrealobj',\n",
       " 'isscalar',\n",
       " 'issctype',\n",
       " 'issubclass_',\n",
       " 'issubdtype',\n",
       " 'issubsctype',\n",
       " 'iterable',\n",
       " 'ix_',\n",
       " 'kaiser',\n",
       " 'kron',\n",
       " 'lcm',\n",
       " 'ldexp',\n",
       " 'left_shift',\n",
       " 'less',\n",
       " 'less_equal',\n",
       " 'lexsort',\n",
       " 'lib',\n",
       " 'linalg',\n",
       " 'linspace',\n",
       " 'little_endian',\n",
       " 'load',\n",
       " 'loads',\n",
       " 'loadtxt',\n",
       " 'log',\n",
       " 'log10',\n",
       " 'log1p',\n",
       " 'log2',\n",
       " 'logaddexp',\n",
       " 'logaddexp2',\n",
       " 'logical_and',\n",
       " 'logical_not',\n",
       " 'logical_or',\n",
       " 'logical_xor',\n",
       " 'logspace',\n",
       " 'longcomplex',\n",
       " 'longdouble',\n",
       " 'longfloat',\n",
       " 'longlong',\n",
       " 'lookfor',\n",
       " 'ma',\n",
       " 'mafromtxt',\n",
       " 'mask_indices',\n",
       " 'mat',\n",
       " 'math',\n",
       " 'matmul',\n",
       " 'matrix',\n",
       " 'matrixlib',\n",
       " 'max',\n",
       " 'maximum',\n",
       " 'maximum_sctype',\n",
       " 'may_share_memory',\n",
       " 'mean',\n",
       " 'median',\n",
       " 'memmap',\n",
       " 'meshgrid',\n",
       " 'mgrid',\n",
       " 'min',\n",
       " 'min_scalar_type',\n",
       " 'minimum',\n",
       " 'mintypecode',\n",
       " 'mkl',\n",
       " 'mod',\n",
       " 'modf',\n",
       " 'moveaxis',\n",
       " 'msort',\n",
       " 'multiply',\n",
       " 'nan',\n",
       " 'nan_to_num',\n",
       " 'nanargmax',\n",
       " 'nanargmin',\n",
       " 'nancumprod',\n",
       " 'nancumsum',\n",
       " 'nanmax',\n",
       " 'nanmean',\n",
       " 'nanmedian',\n",
       " 'nanmin',\n",
       " 'nanpercentile',\n",
       " 'nanprod',\n",
       " 'nanquantile',\n",
       " 'nanstd',\n",
       " 'nansum',\n",
       " 'nanvar',\n",
       " 'nbytes',\n",
       " 'ndarray',\n",
       " 'ndenumerate',\n",
       " 'ndfromtxt',\n",
       " 'ndim',\n",
       " 'ndindex',\n",
       " 'nditer',\n",
       " 'negative',\n",
       " 'nested_iters',\n",
       " 'newaxis',\n",
       " 'nextafter',\n",
       " 'nonzero',\n",
       " 'not_equal',\n",
       " 'numarray',\n",
       " 'number',\n",
       " 'obj2sctype',\n",
       " 'object0',\n",
       " 'object_',\n",
       " 'ogrid',\n",
       " 'oldnumeric',\n",
       " 'ones',\n",
       " 'ones_like',\n",
       " 'os',\n",
       " 'outer',\n",
       " 'packbits',\n",
       " 'pad',\n",
       " 'partition',\n",
       " 'percentile',\n",
       " 'pi',\n",
       " 'piecewise',\n",
       " 'place',\n",
       " 'poly',\n",
       " 'poly1d',\n",
       " 'polyadd',\n",
       " 'polyder',\n",
       " 'polydiv',\n",
       " 'polyfit',\n",
       " 'polyint',\n",
       " 'polymul',\n",
       " 'polynomial',\n",
       " 'polysub',\n",
       " 'polyval',\n",
       " 'positive',\n",
       " 'power',\n",
       " 'printoptions',\n",
       " 'prod',\n",
       " 'product',\n",
       " 'promote_types',\n",
       " 'ptp',\n",
       " 'put',\n",
       " 'put_along_axis',\n",
       " 'putmask',\n",
       " 'quantile',\n",
       " 'r_',\n",
       " 'rad2deg',\n",
       " 'radians',\n",
       " 'random',\n",
       " 'ravel',\n",
       " 'ravel_multi_index',\n",
       " 'real',\n",
       " 'real_if_close',\n",
       " 'rec',\n",
       " 'recarray',\n",
       " 'recfromcsv',\n",
       " 'recfromtxt',\n",
       " 'reciprocal',\n",
       " 'record',\n",
       " 'remainder',\n",
       " 'repeat',\n",
       " 'require',\n",
       " 'reshape',\n",
       " 'resize',\n",
       " 'result_type',\n",
       " 'right_shift',\n",
       " 'rint',\n",
       " 'roll',\n",
       " 'rollaxis',\n",
       " 'roots',\n",
       " 'rot90',\n",
       " 'round',\n",
       " 'round_',\n",
       " 'row_stack',\n",
       " 's_',\n",
       " 'safe_eval',\n",
       " 'save',\n",
       " 'savetxt',\n",
       " 'savez',\n",
       " 'savez_compressed',\n",
       " 'sctype2char',\n",
       " 'sctypeDict',\n",
       " 'sctypes',\n",
       " 'searchsorted',\n",
       " 'select',\n",
       " 'set_numeric_ops',\n",
       " 'set_printoptions',\n",
       " 'set_string_function',\n",
       " 'setbufsize',\n",
       " 'setdiff1d',\n",
       " 'seterr',\n",
       " 'seterrcall',\n",
       " 'seterrobj',\n",
       " 'setxor1d',\n",
       " 'shape',\n",
       " 'shares_memory',\n",
       " 'short',\n",
       " 'show_config',\n",
       " 'sign',\n",
       " 'signbit',\n",
       " 'signedinteger',\n",
       " 'sin',\n",
       " 'sinc',\n",
       " 'single',\n",
       " 'singlecomplex',\n",
       " 'sinh',\n",
       " 'size',\n",
       " 'sometrue',\n",
       " 'sort',\n",
       " 'sort_complex',\n",
       " 'source',\n",
       " 'spacing',\n",
       " 'split',\n",
       " 'sqrt',\n",
       " 'square',\n",
       " 'squeeze',\n",
       " 'stack',\n",
       " 'std',\n",
       " 'str0',\n",
       " 'str_',\n",
       " 'string_',\n",
       " 'subtract',\n",
       " 'sum',\n",
       " 'swapaxes',\n",
       " 'sys',\n",
       " 'take',\n",
       " 'take_along_axis',\n",
       " 'tan',\n",
       " 'tanh',\n",
       " 'tensordot',\n",
       " 'test',\n",
       " 'testing',\n",
       " 'tile',\n",
       " 'timedelta64',\n",
       " 'trace',\n",
       " 'tracemalloc_domain',\n",
       " 'transpose',\n",
       " 'trapz',\n",
       " 'tri',\n",
       " 'tril',\n",
       " 'tril_indices',\n",
       " 'tril_indices_from',\n",
       " 'trim_zeros',\n",
       " 'triu',\n",
       " 'triu_indices',\n",
       " 'triu_indices_from',\n",
       " 'true_divide',\n",
       " 'trunc',\n",
       " 'typeDict',\n",
       " 'typecodes',\n",
       " 'typename',\n",
       " 'ubyte',\n",
       " 'ufunc',\n",
       " 'uint',\n",
       " 'uint0',\n",
       " 'uint16',\n",
       " 'uint32',\n",
       " 'uint64',\n",
       " 'uint8',\n",
       " 'uintc',\n",
       " 'uintp',\n",
       " 'ulonglong',\n",
       " 'unicode_',\n",
       " 'union1d',\n",
       " 'unique',\n",
       " 'unpackbits',\n",
       " 'unravel_index',\n",
       " 'unsignedinteger',\n",
       " 'unwrap',\n",
       " 'use_hugepage',\n",
       " 'ushort',\n",
       " 'vander',\n",
       " 'var',\n",
       " 'vdot',\n",
       " 'vectorize',\n",
       " 'version',\n",
       " 'void',\n",
       " 'void0',\n",
       " 'vsplit',\n",
       " 'vstack',\n",
       " 'warnings',\n",
       " 'where',\n",
       " 'who',\n",
       " 'zeros',\n",
       " 'zeros_like']"
      ]
     },
     "execution_count": 7,
     "metadata": {},
     "output_type": "execute_result"
    }
   ],
   "source": [
    "dir(np)"
   ]
  },
  {
   "cell_type": "markdown",
   "id": "a1eb7345",
   "metadata": {},
   "source": [
    "# array creation()\n",
    "- array() is the submodule in python\n",
    "- np.array(iterable)"
   ]
  },
  {
   "cell_type": "code",
   "execution_count": 9,
   "id": "b5c66e78",
   "metadata": {},
   "outputs": [
    {
     "name": "stdout",
     "output_type": "stream",
     "text": [
      "[  2   3   3  44 332 434]\n"
     ]
    }
   ],
   "source": [
    "print(np.array([2,3,3,44,332,434]))"
   ]
  },
  {
   "cell_type": "code",
   "execution_count": 10,
   "id": "39211cd6",
   "metadata": {},
   "outputs": [
    {
     "name": "stdout",
     "output_type": "stream",
     "text": [
      "[ 34  53 453  53  65]\n"
     ]
    }
   ],
   "source": [
    "# tuple into array\n",
    "print(np.array((34,53,453,53,65)))"
   ]
  },
  {
   "cell_type": "code",
   "execution_count": 11,
   "id": "af6ab0c5",
   "metadata": {},
   "outputs": [
    {
     "name": "stdout",
     "output_type": "stream",
     "text": [
      "['2' '3' '3' '44' '332' '434']\n"
     ]
    }
   ],
   "source": [
    "print(np.array([2,3,3,44,332,434],dtype=\"str\"))"
   ]
  },
  {
   "cell_type": "code",
   "execution_count": 12,
   "id": "17491a86",
   "metadata": {
    "scrolled": true
   },
   "outputs": [
    {
     "name": "stdout",
     "output_type": "stream",
     "text": [
      "[10 11 12 13 14 15 16 17 18 19]\n"
     ]
    }
   ],
   "source": [
    "print(np.array(range(10,20)))"
   ]
  },
  {
   "cell_type": "code",
   "execution_count": 13,
   "id": "1784e0b7",
   "metadata": {},
   "outputs": [
    {
     "name": "stdout",
     "output_type": "stream",
     "text": [
      "[10 12 14 16 18]\n"
     ]
    }
   ],
   "source": [
    "print(np.array(range(10,20,2)))"
   ]
  },
  {
   "cell_type": "code",
   "execution_count": 15,
   "id": "3f6900d1",
   "metadata": {},
   "outputs": [
    {
     "name": "stdout",
     "output_type": "stream",
     "text": [
      "[50 45 40 35 30 25]\n"
     ]
    }
   ],
   "source": [
    "print(np.array(range(50,20,-5)))"
   ]
  },
  {
   "cell_type": "markdown",
   "id": "19d73c0c",
   "metadata": {},
   "source": [
    "## Multidimensional Arrays"
   ]
  },
  {
   "cell_type": "code",
   "execution_count": 20,
   "id": "53f56826",
   "metadata": {},
   "outputs": [
    {
     "name": "stdout",
     "output_type": "stream",
     "text": [
      "[[52 25 35  3  5  6]\n",
      " [66 46  3  6 36  3]]\n"
     ]
    }
   ],
   "source": [
    "print(np.array([[52,25,35,3,5,6],[66,46,3,6,36,3]]))"
   ]
  },
  {
   "cell_type": "code",
   "execution_count": 21,
   "id": "71317603",
   "metadata": {},
   "outputs": [
    {
     "name": "stdout",
     "output_type": "stream",
     "text": [
      "[[52 25 35  3  5  6]\n",
      " [66 46  3  6 36  3]]\n"
     ]
    }
   ],
   "source": [
    "li=np.array([[52,25,35,3,5,6],[66,46,3,6,36,3]])\n",
    "print(li)"
   ]
  },
  {
   "cell_type": "code",
   "execution_count": 22,
   "id": "e2b17bc3",
   "metadata": {},
   "outputs": [
    {
     "data": {
      "text/plain": [
       "dtype('int32')"
      ]
     },
     "execution_count": 22,
     "metadata": {},
     "output_type": "execute_result"
    }
   ],
   "source": [
    "li.dtype"
   ]
  },
  {
   "cell_type": "code",
   "execution_count": 23,
   "id": "5318d57b",
   "metadata": {},
   "outputs": [
    {
     "data": {
      "text/plain": [
       "12"
      ]
     },
     "execution_count": 23,
     "metadata": {},
     "output_type": "execute_result"
    }
   ],
   "source": [
    "li.size"
   ]
  },
  {
   "cell_type": "code",
   "execution_count": 25,
   "id": "317b2750",
   "metadata": {},
   "outputs": [
    {
     "data": {
      "text/plain": [
       "(2, 6)"
      ]
     },
     "execution_count": 25,
     "metadata": {},
     "output_type": "execute_result"
    }
   ],
   "source": [
    "li.shape"
   ]
  },
  {
   "cell_type": "code",
   "execution_count": 26,
   "id": "f6a0fcf2",
   "metadata": {},
   "outputs": [
    {
     "data": {
      "text/plain": [
       "4"
      ]
     },
     "execution_count": 26,
     "metadata": {},
     "output_type": "execute_result"
    }
   ],
   "source": [
    "li.itemsize"
   ]
  },
  {
   "cell_type": "code",
   "execution_count": 37,
   "id": "cb88a02b",
   "metadata": {},
   "outputs": [
    {
     "name": "stdout",
     "output_type": "stream",
     "text": [
      "[[ 52  25  35   3   5   6]\n",
      " [ 66  46   3   6  36   3]\n",
      " [ 32  54   5 354  35  65]\n",
      " [345  35  45   3   5  34]\n",
      " [ 32   4  24  34 345  54]\n",
      " [ 33  54  35 355 535  34]]\n"
     ]
    }
   ],
   "source": [
    "li=np.array([[52,25,35,3,5,6],[66,46,3,6,36,3],[32,54,5,354,35,65],[345,35,45,3,5,34],[32,4,24,34,345,54],[33,54,35,355,535,34]])\n",
    "print(li)"
   ]
  },
  {
   "cell_type": "code",
   "execution_count": 38,
   "id": "f6d32242",
   "metadata": {},
   "outputs": [
    {
     "data": {
      "text/plain": [
       "array([66, 46,  3,  6, 36,  3])"
      ]
     },
     "execution_count": 38,
     "metadata": {},
     "output_type": "execute_result"
    }
   ],
   "source": [
    "li[1]"
   ]
  },
  {
   "cell_type": "code",
   "execution_count": 39,
   "id": "077e9914",
   "metadata": {},
   "outputs": [
    {
     "data": {
      "text/plain": [
       "array([52, 25, 35,  3,  5,  6])"
      ]
     },
     "execution_count": 39,
     "metadata": {},
     "output_type": "execute_result"
    }
   ],
   "source": [
    "li[0]"
   ]
  },
  {
   "cell_type": "code",
   "execution_count": 40,
   "id": "17963ec2",
   "metadata": {},
   "outputs": [
    {
     "data": {
      "text/plain": [
       "array([ 33,  54,  35, 355, 535,  34])"
      ]
     },
     "execution_count": 40,
     "metadata": {},
     "output_type": "execute_result"
    }
   ],
   "source": [
    "li[5]"
   ]
  },
  {
   "cell_type": "code",
   "execution_count": 51,
   "id": "ebc1bcf6",
   "metadata": {},
   "outputs": [
    {
     "data": {
      "text/plain": [
       "array([[[[[[[[[[[[[[[[[[[[[[[[[[[[[[[[52,\n",
       "                                      25,\n",
       "                                      35,\n",
       "                                       3,\n",
       "                                       5,\n",
       "                                       6]]]]]]]]]]]]]]]]]]]]]]]]]]]]]]]])"
      ]
     },
     "execution_count": 51,
     "metadata": {},
     "output_type": "execute_result"
    }
   ],
   "source": [
    "np.array([52,25,35,3,5,6],ndmin=32)"
   ]
  },
  {
   "cell_type": "code",
   "execution_count": 44,
   "id": "4a631d42",
   "metadata": {},
   "outputs": [
    {
     "name": "stdout",
     "output_type": "stream",
     "text": [
      "[[1. 0. 0. 0.]\n",
      " [0. 1. 0. 0.]\n",
      " [0. 0. 1. 0.]\n",
      " [0. 0. 0. 1.]]\n"
     ]
    }
   ],
   "source": [
    "#identity matrix\n",
    "c=np.eye(4)\n",
    "print(c)"
   ]
  },
  {
   "cell_type": "code",
   "execution_count": 57,
   "id": "aea719bc",
   "metadata": {},
   "outputs": [
    {
     "name": "stdout",
     "output_type": "stream",
     "text": [
      "[[1. 0. 0. 0. 0.]\n",
      " [0. 1. 0. 0. 0.]\n",
      " [0. 0. 1. 0. 0.]\n",
      " [0. 0. 0. 1. 0.]\n",
      " [0. 0. 0. 0. 1.]\n",
      " [0. 0. 0. 0. 0.]\n",
      " [0. 0. 0. 0. 0.]]\n"
     ]
    }
   ],
   "source": [
    "c=np.eye(7,5)\n",
    "print(c)"
   ]
  },
  {
   "cell_type": "code",
   "execution_count": 49,
   "id": "4c2c7f0d",
   "metadata": {},
   "outputs": [
    {
     "name": "stdout",
     "output_type": "stream",
     "text": [
      "[0. 0. 0. 0. 0. 0. 0. 0.]\n"
     ]
    },
    {
     "data": {
      "text/plain": [
       "array([0., 0., 0., 0., 0., 0., 0., 0.])"
      ]
     },
     "execution_count": 49,
     "metadata": {},
     "output_type": "execute_result"
    }
   ],
   "source": [
    "#zeroes matrix\n",
    "c=np.zeros(8)\n",
    "print(c)\n",
    "c"
   ]
  },
  {
   "cell_type": "code",
   "execution_count": 55,
   "id": "668ed234",
   "metadata": {},
   "outputs": [
    {
     "name": "stdout",
     "output_type": "stream",
     "text": [
      "[[0. 0.]\n",
      " [0. 0.]\n",
      " [0. 0.]\n",
      " [0. 0.]\n",
      " [0. 0.]\n",
      " [0. 0.]\n",
      " [0. 0.]\n",
      " [0. 0.]]\n"
     ]
    },
    {
     "data": {
      "text/plain": [
       "array([[0., 0.],\n",
       "       [0., 0.],\n",
       "       [0., 0.],\n",
       "       [0., 0.],\n",
       "       [0., 0.],\n",
       "       [0., 0.],\n",
       "       [0., 0.],\n",
       "       [0., 0.]])"
      ]
     },
     "execution_count": 55,
     "metadata": {},
     "output_type": "execute_result"
    }
   ],
   "source": [
    "c=np.zeros((8,2))\n",
    "print(c)\n",
    "c"
   ]
  },
  {
   "cell_type": "code",
   "execution_count": 58,
   "id": "a981ab79",
   "metadata": {},
   "outputs": [
    {
     "name": "stdout",
     "output_type": "stream",
     "text": [
      "[1. 1. 1. 1.]\n"
     ]
    }
   ],
   "source": [
    "c=np.ones(4)\n",
    "print(c)"
   ]
  },
  {
   "cell_type": "code",
   "execution_count": 59,
   "id": "1cc4b141",
   "metadata": {},
   "outputs": [
    {
     "name": "stdout",
     "output_type": "stream",
     "text": [
      "[[1. 1. 1. 1.]\n",
      " [1. 1. 1. 1.]\n",
      " [1. 1. 1. 1.]\n",
      " [1. 1. 1. 1.]\n",
      " [1. 1. 1. 1.]\n",
      " [1. 1. 1. 1.]\n",
      " [1. 1. 1. 1.]\n",
      " [1. 1. 1. 1.]\n",
      " [1. 1. 1. 1.]]\n"
     ]
    }
   ],
   "source": [
    "c=np.ones((9,4))\n",
    "print(c)"
   ]
  },
  {
   "cell_type": "code",
   "execution_count": 62,
   "id": "09a9f81c",
   "metadata": {},
   "outputs": [
    {
     "name": "stdout",
     "output_type": "stream",
     "text": [
      "[1 1 1 1]\n"
     ]
    }
   ],
   "source": [
    "c=np.ones(4,dtype=\"int\")\n",
    "print(c)"
   ]
  },
  {
   "cell_type": "code",
   "execution_count": 60,
   "id": "c8ec72e5",
   "metadata": {},
   "outputs": [
    {
     "name": "stdout",
     "output_type": "stream",
     "text": [
      "['hi' 'hi' 'hi' 'hi']\n"
     ]
    }
   ],
   "source": [
    "c=np.full(4,\"hi\")\n",
    "print(c)"
   ]
  },
  {
   "cell_type": "code",
   "execution_count": 64,
   "id": "77fb8ea9",
   "metadata": {},
   "outputs": [
    {
     "name": "stdout",
     "output_type": "stream",
     "text": [
      "[['hi' 'hi' 'hi' 'hi' 'hi']\n",
      " ['hi' 'hi' 'hi' 'hi' 'hi']\n",
      " ['hi' 'hi' 'hi' 'hi' 'hi']\n",
      " ['hi' 'hi' 'hi' 'hi' 'hi']]\n"
     ]
    },
    {
     "data": {
      "text/plain": [
       "array([['hi', 'hi', 'hi', 'hi', 'hi'],\n",
       "       ['hi', 'hi', 'hi', 'hi', 'hi'],\n",
       "       ['hi', 'hi', 'hi', 'hi', 'hi'],\n",
       "       ['hi', 'hi', 'hi', 'hi', 'hi']], dtype='<U2')"
      ]
     },
     "execution_count": 64,
     "metadata": {},
     "output_type": "execute_result"
    }
   ],
   "source": [
    "c=np.full((4,5),\"hi\")\n",
    "print(c)\n",
    "c"
   ]
  },
  {
   "cell_type": "code",
   "execution_count": 66,
   "id": "83a71962",
   "metadata": {},
   "outputs": [
    {
     "name": "stdout",
     "output_type": "stream",
     "text": [
      "[['he' 'he' 'he' 'he' 'he']\n",
      " ['he' 'he' 'he' 'he' 'he']\n",
      " ['he' 'he' 'he' 'he' 'he']\n",
      " ['he' 'he' 'he' 'he' 'he']]\n"
     ]
    }
   ],
   "source": [
    "c.fill(\"hey hii\")\n",
    "print(c)"
   ]
  },
  {
   "cell_type": "code",
   "execution_count": 67,
   "id": "117b3929",
   "metadata": {},
   "outputs": [
    {
     "name": "stdout",
     "output_type": "stream",
     "text": [
      "[['4' '4' '4' '4' '4']\n",
      " ['4' '4' '4' '4' '4']\n",
      " ['4' '4' '4' '4' '4']\n",
      " ['4' '4' '4' '4' '4']]\n"
     ]
    }
   ],
   "source": [
    "c.fill(4)\n",
    "print(c)"
   ]
  },
  {
   "cell_type": "code",
   "execution_count": 68,
   "id": "3eeeda5c",
   "metadata": {},
   "outputs": [
    {
     "name": "stdout",
     "output_type": "stream",
     "text": [
      "[ 10.          25.83333333  41.66666667  57.5         73.33333333\n",
      "  89.16666667 105.         120.83333333 136.66666667 152.5\n",
      " 168.33333333 184.16666667 200.        ]\n"
     ]
    }
   ],
   "source": [
    "# using linspace:linear space\n",
    "li=np.linspace(10,200,13) #190 numbers/3\n",
    "print(li)"
   ]
  },
  {
   "cell_type": "markdown",
   "id": "7597b3bb",
   "metadata": {},
   "source": [
    "## creating array with arange()"
   ]
  },
  {
   "cell_type": "code",
   "execution_count": 69,
   "id": "b1bd7cb0",
   "metadata": {},
   "outputs": [
    {
     "name": "stdout",
     "output_type": "stream",
     "text": [
      "[ 0  1  2  3  4  5  6  7  8  9 10 11 12 13 14 15 16 17 18 19 20 21 22 23\n",
      " 24]\n"
     ]
    }
   ],
   "source": [
    "li=np.arange(25)\n",
    "print(li)"
   ]
  },
  {
   "cell_type": "code",
   "execution_count": 70,
   "id": "aea8eeb5",
   "metadata": {},
   "outputs": [
    {
     "name": "stdout",
     "output_type": "stream",
     "text": [
      "[25 27 29 31 33 35 37 39 41 43 45 47 49 51 53 55 57 59 61 63 65 67 69 71\n",
      " 73 75 77 79 81 83 85 87 89 91 93 95 97 99]\n"
     ]
    }
   ],
   "source": [
    "li=np.arange(25,100,2)\n",
    "print(li)"
   ]
  },
  {
   "cell_type": "code",
   "execution_count": 73,
   "id": "c4acb569",
   "metadata": {},
   "outputs": [
    {
     "data": {
      "text/plain": [
       "array([[25],\n",
       "       [27],\n",
       "       [29],\n",
       "       [31],\n",
       "       [33],\n",
       "       [35],\n",
       "       [37],\n",
       "       [39],\n",
       "       [41],\n",
       "       [43],\n",
       "       [45],\n",
       "       [47],\n",
       "       [49],\n",
       "       [51],\n",
       "       [53],\n",
       "       [55],\n",
       "       [57],\n",
       "       [59],\n",
       "       [61],\n",
       "       [63],\n",
       "       [65],\n",
       "       [67],\n",
       "       [69],\n",
       "       [71],\n",
       "       [73],\n",
       "       [75],\n",
       "       [77],\n",
       "       [79],\n",
       "       [81],\n",
       "       [83],\n",
       "       [85],\n",
       "       [87],\n",
       "       [89],\n",
       "       [91],\n",
       "       [93],\n",
       "       [95],\n",
       "       [97],\n",
       "       [99]])"
      ]
     },
     "execution_count": 73,
     "metadata": {},
     "output_type": "execute_result"
    }
   ],
   "source": [
    "li.reshape(38,1)"
   ]
  },
  {
   "cell_type": "markdown",
   "id": "47757422",
   "metadata": {},
   "source": [
    "## random()\n",
    "- used to generate random integer\n",
    "- random.randint()"
   ]
  },
  {
   "cell_type": "code",
   "execution_count": 4,
   "id": "d3d7a5ec",
   "metadata": {},
   "outputs": [],
   "source": [
    "import numpy as np"
   ]
  },
  {
   "cell_type": "code",
   "execution_count": 6,
   "id": "0840b3f4",
   "metadata": {},
   "outputs": [
    {
     "name": "stdout",
     "output_type": "stream",
     "text": [
      "122\n"
     ]
    }
   ],
   "source": [
    "rn=np.random.randint(99,200)\n",
    "print(rn)"
   ]
  },
  {
   "cell_type": "code",
   "execution_count": 8,
   "id": "f2113755",
   "metadata": {},
   "outputs": [
    {
     "name": "stdout",
     "output_type": "stream",
     "text": [
      "[182 173 156 159 186 161 161 101]\n"
     ]
    }
   ],
   "source": [
    "# multiple random values\n",
    "rn=np.random.randint(99,200,8)\n",
    "print(rn)"
   ]
  },
  {
   "cell_type": "code",
   "execution_count": 12,
   "id": "37927693",
   "metadata": {},
   "outputs": [
    {
     "name": "stdout",
     "output_type": "stream",
     "text": [
      "[ 99 151 104 155 102 161 105 139]\n"
     ]
    },
    {
     "data": {
      "text/plain": [
       "array([[ 99, 151, 104, 155],\n",
       "       [102, 161, 105, 139]])"
      ]
     },
     "execution_count": 12,
     "metadata": {},
     "output_type": "execute_result"
    }
   ],
   "source": [
    "rn=np.random.randint(99,200,8)\n",
    "print(rn)\n",
    "rn.reshape(8,1)\n",
    "rn.reshape(2,4)"
   ]
  },
  {
   "cell_type": "code",
   "execution_count": 13,
   "id": "b00c9b46",
   "metadata": {},
   "outputs": [
    {
     "name": "stdout",
     "output_type": "stream",
     "text": [
      "[133 134 102 106 138 106 143 171]\n"
     ]
    },
    {
     "data": {
      "text/plain": [
       "array([[133],\n",
       "       [134],\n",
       "       [102],\n",
       "       [106],\n",
       "       [138],\n",
       "       [106],\n",
       "       [143],\n",
       "       [171]])"
      ]
     },
     "execution_count": 13,
     "metadata": {},
     "output_type": "execute_result"
    }
   ],
   "source": [
    "rn=np.random.randint(99,200,8)\n",
    "print(rn)\n",
    "rn.reshape(8,1)"
   ]
  },
  {
   "cell_type": "code",
   "execution_count": 10,
   "id": "dd95038f",
   "metadata": {},
   "outputs": [
    {
     "data": {
      "text/plain": [
       "array([180, 177, 131, 120, 105, 173, 154, 164])"
      ]
     },
     "execution_count": 10,
     "metadata": {},
     "output_type": "execute_result"
    }
   ],
   "source": [
    "rn"
   ]
  },
  {
   "cell_type": "code",
   "execution_count": 15,
   "id": "2401436c",
   "metadata": {},
   "outputs": [
    {
     "data": {
      "text/plain": [
       "array([[0.47764917, 0.93094625, 0.74934252],\n",
       "       [0.07168743, 0.52755896, 0.07789271]])"
      ]
     },
     "execution_count": 15,
     "metadata": {},
     "output_type": "execute_result"
    }
   ],
   "source": [
    "np.random.random((2,3))# random int b/w 0 and 1 of size(2,3)"
   ]
  },
  {
   "cell_type": "code",
   "execution_count": 16,
   "id": "81504555",
   "metadata": {},
   "outputs": [
    {
     "data": {
      "text/plain": [
       "array([[0.84496916, 0.8904237 , 0.75321018],\n",
       "       [0.56183458, 0.84181309, 0.2952324 ],\n",
       "       [0.52749853, 0.07364845, 0.09933026],\n",
       "       [0.22185284, 0.00549116, 0.30976136]])"
      ]
     },
     "execution_count": 16,
     "metadata": {},
     "output_type": "execute_result"
    }
   ],
   "source": [
    "np.random.rand(4,3)#sizeeeeee"
   ]
  },
  {
   "cell_type": "code",
   "execution_count": 17,
   "id": "46e2dfd9",
   "metadata": {},
   "outputs": [
    {
     "data": {
      "text/plain": [
       "array([[ 0.88316026,  0.72487054,  0.65169093],\n",
       "       [ 0.03484717,  0.71300886, -0.59783236],\n",
       "       [ 0.41399059,  1.79582277,  0.47767046],\n",
       "       [-1.05471407, -0.44949462,  0.95931083]])"
      ]
     },
     "execution_count": 17,
     "metadata": {},
     "output_type": "execute_result"
    }
   ],
   "source": [
    "np.random.randn(4,3)#b/w -1 and 1"
   ]
  },
  {
   "cell_type": "code",
   "execution_count": 25,
   "id": "e817f241",
   "metadata": {},
   "outputs": [
    {
     "data": {
      "text/plain": [
       "array([ 5.        ,  5.20408163,  5.40816327,  5.6122449 ,  5.81632653,\n",
       "        6.02040816,  6.2244898 ,  6.42857143,  6.63265306,  6.83673469,\n",
       "        7.04081633,  7.24489796,  7.44897959,  7.65306122,  7.85714286,\n",
       "        8.06122449,  8.26530612,  8.46938776,  8.67346939,  8.87755102,\n",
       "        9.08163265,  9.28571429,  9.48979592,  9.69387755,  9.89795918,\n",
       "       10.10204082, 10.30612245, 10.51020408, 10.71428571, 10.91836735,\n",
       "       11.12244898, 11.32653061, 11.53061224, 11.73469388, 11.93877551,\n",
       "       12.14285714, 12.34693878, 12.55102041, 12.75510204, 12.95918367,\n",
       "       13.16326531, 13.36734694, 13.57142857, 13.7755102 , 13.97959184,\n",
       "       14.18367347, 14.3877551 , 14.59183673, 14.79591837, 15.        ])"
      ]
     },
     "execution_count": 25,
     "metadata": {},
     "output_type": "execute_result"
    }
   ],
   "source": [
    "np.linspace(5,15)# 75 partitions b/w 5 and 15"
   ]
  },
  {
   "cell_type": "code",
   "execution_count": 24,
   "id": "91d8acc4",
   "metadata": {},
   "outputs": [
    {
     "data": {
      "text/plain": [
       "array([ 5.        ,  6.11111111,  7.22222222,  8.33333333,  9.44444444,\n",
       "       10.55555556, 11.66666667, 12.77777778, 13.88888889, 15.        ])"
      ]
     },
     "execution_count": 24,
     "metadata": {},
     "output_type": "execute_result"
    }
   ],
   "source": [
    "np.linspace(5,15,10)"
   ]
  },
  {
   "cell_type": "code",
   "execution_count": 21,
   "id": "692e15e0",
   "metadata": {},
   "outputs": [
    {
     "data": {
      "text/plain": [
       "1.1"
      ]
     },
     "execution_count": 21,
     "metadata": {},
     "output_type": "execute_result"
    }
   ],
   "source": [
    "11/10"
   ]
  },
  {
   "cell_type": "markdown",
   "id": "e1c55206",
   "metadata": {},
   "source": [
    "# Accesing the array elements\n",
    "- using index\n",
    "- index of three types\n",
    "- +ve indexing,-ve indexing ,fancy indexing\n",
    "- -ve index: from -1 to infinite\n",
    "- fancy: condition based index"
   ]
  },
  {
   "cell_type": "code",
   "execution_count": 37,
   "id": "b6a53055",
   "metadata": {},
   "outputs": [
    {
     "data": {
      "text/plain": [
       "array([[ 91, 128, 105,  55,  74],\n",
       "       [101, 141, 190,  56,  60],\n",
       "       [ 83, 199, 108, 127,  86],\n",
       "       [124, 126,  96, 119, 191],\n",
       "       [161, 164, 105, 124, 185]])"
      ]
     },
     "execution_count": 37,
     "metadata": {},
     "output_type": "execute_result"
    }
   ],
   "source": [
    "r=np.random.randint(50,200,25).reshape(5,5)\n",
    "r"
   ]
  },
  {
   "cell_type": "code",
   "execution_count": 35,
   "id": "72484267",
   "metadata": {
    "scrolled": false
   },
   "outputs": [
    {
     "data": {
      "text/plain": [
       "array([[ 50,  52,  54,  56,  58],\n",
       "       [ 60,  62,  64,  66,  68],\n",
       "       [ 70,  72,  74,  76,  78],\n",
       "       [ 80,  82,  84,  86,  88],\n",
       "       [ 90,  92,  94,  96,  98],\n",
       "       [100, 102, 104, 106, 108],\n",
       "       [110, 112, 114, 116, 118],\n",
       "       [120, 122, 124, 126, 128],\n",
       "       [130, 132, 134, 136, 138],\n",
       "       [140, 142, 144, 146, 148],\n",
       "       [150, 152, 154, 156, 158],\n",
       "       [160, 162, 164, 166, 168],\n",
       "       [170, 172, 174, 176, 178],\n",
       "       [180, 182, 184, 186, 188],\n",
       "       [190, 192, 194, 196, 198]])"
      ]
     },
     "execution_count": 35,
     "metadata": {},
     "output_type": "execute_result"
    }
   ],
   "source": [
    "ra=np.arange(50,200,2).reshape(-3,5)\n",
    "ra"
   ]
  },
  {
   "cell_type": "code",
   "execution_count": 36,
   "id": "b2b051b8",
   "metadata": {},
   "outputs": [
    {
     "data": {
      "text/plain": [
       "array([80, 82, 84, 86, 88])"
      ]
     },
     "execution_count": 36,
     "metadata": {},
     "output_type": "execute_result"
    }
   ],
   "source": [
    "ra[3]"
   ]
  },
  {
   "cell_type": "code",
   "execution_count": 38,
   "id": "1294f280",
   "metadata": {},
   "outputs": [
    {
     "data": {
      "text/plain": [
       "array([[ 50,  52,  54,  56,  58],\n",
       "       [ 60,  62,  64,  66,  68],\n",
       "       [ 70,  72,  74,  76,  78],\n",
       "       [ 80,  82,  84,  86,  88],\n",
       "       [ 90,  92,  94,  96,  98],\n",
       "       [100, 102, 104, 106, 108],\n",
       "       [110, 112, 114, 116, 118],\n",
       "       [120, 122, 124, 126, 128],\n",
       "       [130, 132, 134, 136, 138],\n",
       "       [140, 142, 144, 146, 148],\n",
       "       [150, 152, 154, 156, 158],\n",
       "       [160, 162, 164, 166, 168],\n",
       "       [170, 172, 174, 176, 178],\n",
       "       [180, 182, 184, 186, 188],\n",
       "       [190, 192, 194, 196, 198]])"
      ]
     },
     "execution_count": 38,
     "metadata": {},
     "output_type": "execute_result"
    }
   ],
   "source": [
    "ra[:]"
   ]
  },
  {
   "cell_type": "code",
   "execution_count": 39,
   "id": "f5ec83a6",
   "metadata": {},
   "outputs": [
    {
     "data": {
      "text/plain": [
       "array([[190, 192, 194, 196, 198],\n",
       "       [180, 182, 184, 186, 188],\n",
       "       [170, 172, 174, 176, 178],\n",
       "       [160, 162, 164, 166, 168],\n",
       "       [150, 152, 154, 156, 158],\n",
       "       [140, 142, 144, 146, 148],\n",
       "       [130, 132, 134, 136, 138],\n",
       "       [120, 122, 124, 126, 128],\n",
       "       [110, 112, 114, 116, 118],\n",
       "       [100, 102, 104, 106, 108],\n",
       "       [ 90,  92,  94,  96,  98],\n",
       "       [ 80,  82,  84,  86,  88],\n",
       "       [ 70,  72,  74,  76,  78],\n",
       "       [ 60,  62,  64,  66,  68],\n",
       "       [ 50,  52,  54,  56,  58]])"
      ]
     },
     "execution_count": 39,
     "metadata": {},
     "output_type": "execute_result"
    }
   ],
   "source": [
    "ra[::-1]"
   ]
  },
  {
   "cell_type": "code",
   "execution_count": 40,
   "id": "2118e024",
   "metadata": {
    "scrolled": true
   },
   "outputs": [
    {
     "data": {
      "text/plain": [
       "array([[ 52,  54,  56],\n",
       "       [ 62,  64,  66],\n",
       "       [ 72,  74,  76],\n",
       "       [ 82,  84,  86],\n",
       "       [ 92,  94,  96],\n",
       "       [102, 104, 106],\n",
       "       [112, 114, 116],\n",
       "       [122, 124, 126],\n",
       "       [132, 134, 136],\n",
       "       [142, 144, 146],\n",
       "       [152, 154, 156],\n",
       "       [162, 164, 166],\n",
       "       [172, 174, 176],\n",
       "       [182, 184, 186],\n",
       "       [192, 194, 196]])"
      ]
     },
     "execution_count": 40,
     "metadata": {},
     "output_type": "execute_result"
    }
   ],
   "source": [
    "ra[:,1:4]"
   ]
  },
  {
   "cell_type": "code",
   "execution_count": 41,
   "id": "17963a59",
   "metadata": {},
   "outputs": [
    {
     "data": {
      "text/plain": [
       "array([[50, 52, 54, 56, 58],\n",
       "       [60, 62, 64, 66, 68],\n",
       "       [70, 72, 74, 76, 78],\n",
       "       [80, 82, 84, 86, 88]])"
      ]
     },
     "execution_count": 41,
     "metadata": {},
     "output_type": "execute_result"
    }
   ],
   "source": [
    "ra[:4,:]"
   ]
  },
  {
   "cell_type": "code",
   "execution_count": 44,
   "id": "0f04b806",
   "metadata": {},
   "outputs": [
    {
     "name": "stdout",
     "output_type": "stream",
     "text": [
      "[128 105  55] [141 190  56] [199 108 127] [126  96 119] [164 105 124] "
     ]
    }
   ],
   "source": [
    "for num in r[:,1:4]:\n",
    "    print(num,end=\" \")"
   ]
  },
  {
   "cell_type": "code",
   "execution_count": 46,
   "id": "5bce4fca",
   "metadata": {},
   "outputs": [
    {
     "name": "stdout",
     "output_type": "stream",
     "text": [
      "105\n",
      "55\n",
      "141\n",
      "199\n",
      "127\n",
      "119\n",
      "105\n"
     ]
    }
   ],
   "source": [
    "for num in r[:,1:4]:\n",
    "    for i in num:\n",
    "        if i%2==1:\n",
    "            print(i)#odd numbers"
   ]
  },
  {
   "cell_type": "code",
   "execution_count": 47,
   "id": "7cae836f",
   "metadata": {},
   "outputs": [
    {
     "data": {
      "text/plain": [
       "array([[62, 64, 66],\n",
       "       [72, 74, 76],\n",
       "       [82, 84, 86]])"
      ]
     },
     "execution_count": 47,
     "metadata": {},
     "output_type": "execute_result"
    }
   ],
   "source": [
    "ra[1:4,1:4]"
   ]
  },
  {
   "cell_type": "code",
   "execution_count": 48,
   "id": "e48f206b",
   "metadata": {},
   "outputs": [
    {
     "data": {
      "text/plain": [
       "array([[62, 66],\n",
       "       [82, 86]])"
      ]
     },
     "execution_count": 48,
     "metadata": {},
     "output_type": "execute_result"
    }
   ],
   "source": [
    "ra[1:4:2,1:4:2]"
   ]
  },
  {
   "cell_type": "code",
   "execution_count": 49,
   "id": "41e803d7",
   "metadata": {},
   "outputs": [],
   "source": [
    "#extract the sub array containing\n",
    "#alterate col in alternate rows"
   ]
  },
  {
   "cell_type": "code",
   "execution_count": 50,
   "id": "1473b409",
   "metadata": {},
   "outputs": [
    {
     "data": {
      "text/plain": [
       "array([[170, 172, 174, 176, 178],\n",
       "       [180, 182, 184, 186, 188]])"
      ]
     },
     "execution_count": 50,
     "metadata": {},
     "output_type": "execute_result"
    }
   ],
   "source": [
    "ra[-3:-1]"
   ]
  },
  {
   "cell_type": "code",
   "execution_count": 51,
   "id": "d94a1622",
   "metadata": {},
   "outputs": [
    {
     "data": {
      "text/plain": [
       "array([[198, 196, 194, 192, 190],\n",
       "       [188, 186, 184, 182, 180],\n",
       "       [178, 176, 174, 172, 170],\n",
       "       [168, 166, 164, 162, 160],\n",
       "       [158, 156, 154, 152, 150],\n",
       "       [148, 146, 144, 142, 140],\n",
       "       [138, 136, 134, 132, 130],\n",
       "       [128, 126, 124, 122, 120],\n",
       "       [118, 116, 114, 112, 110],\n",
       "       [108, 106, 104, 102, 100],\n",
       "       [ 98,  96,  94,  92,  90],\n",
       "       [ 88,  86,  84,  82,  80],\n",
       "       [ 78,  76,  74,  72,  70],\n",
       "       [ 68,  66,  64,  62,  60],\n",
       "       [ 58,  56,  54,  52,  50]])"
      ]
     },
     "execution_count": 51,
     "metadata": {},
     "output_type": "execute_result"
    }
   ],
   "source": [
    "ra[::-1,::-1]"
   ]
  },
  {
   "cell_type": "code",
   "execution_count": 82,
   "id": "0ab84242",
   "metadata": {},
   "outputs": [
    {
     "data": {
      "text/plain": [
       "array([[ 91, 128, 105,  55,  74],\n",
       "       [101, 141, 190,  56,  60],\n",
       "       [ 83, 199, 108, 127,  86],\n",
       "       [124, 126,  96, 119, 191],\n",
       "       [161, 164, 105, 124, 185]])"
      ]
     },
     "execution_count": 82,
     "metadata": {},
     "output_type": "execute_result"
    }
   ],
   "source": [
    "r"
   ]
  },
  {
   "cell_type": "code",
   "execution_count": 59,
   "id": "47352884",
   "metadata": {},
   "outputs": [
    {
     "data": {
      "text/plain": [
       "array([[ True, False, False,  True,  True],\n",
       "       [False, False, False,  True,  True],\n",
       "       [ True, False, False, False,  True],\n",
       "       [False, False,  True, False, False],\n",
       "       [False, False, False, False, False]])"
      ]
     },
     "execution_count": 59,
     "metadata": {},
     "output_type": "execute_result"
    }
   ],
   "source": [
    "#fancy indexing \n",
    "r<100 #boolean array"
   ]
  },
  {
   "cell_type": "code",
   "execution_count": 58,
   "id": "23350c7b",
   "metadata": {},
   "outputs": [
    {
     "data": {
      "text/plain": [
       "array([91, 55, 74, 56, 60, 83, 86, 96])"
      ]
     },
     "execution_count": 58,
     "metadata": {},
     "output_type": "execute_result"
    }
   ],
   "source": [
    "r[r<100]"
   ]
  },
  {
   "cell_type": "code",
   "execution_count": 62,
   "id": "f7b5aeca",
   "metadata": {},
   "outputs": [],
   "source": [
    "#scientific computations on arrays\n",
    "#perform all the operations on arrays "
   ]
  },
  {
   "cell_type": "code",
   "execution_count": 68,
   "id": "b35293ae",
   "metadata": {},
   "outputs": [
    {
     "data": {
      "text/plain": [
       "array([[50, 52, 54, 56, 58],\n",
       "       [60, 62, 64, 66, 68],\n",
       "       [70, 72, 74, 76, 78],\n",
       "       [80, 82, 84, 86, 88],\n",
       "       [90, 92, 94, 96, 98]])"
      ]
     },
     "execution_count": 68,
     "metadata": {},
     "output_type": "execute_result"
    }
   ],
   "source": [
    "ra=np.arange(50,100,2).reshape(5,5)\n",
    "ra"
   ]
  },
  {
   "cell_type": "code",
   "execution_count": 69,
   "id": "c2082e86",
   "metadata": {},
   "outputs": [
    {
     "name": "stdout",
     "output_type": "stream",
     "text": [
      "[[141 180 159 111 132]\n",
      " [161 203 254 122 128]\n",
      " [153 271 182 203 164]\n",
      " [204 208 180 205 279]\n",
      " [251 256 199 220 283]]\n"
     ]
    }
   ],
   "source": [
    "print(r+ra)"
   ]
  },
  {
   "cell_type": "code",
   "execution_count": 70,
   "id": "7b425e91",
   "metadata": {},
   "outputs": [
    {
     "data": {
      "text/plain": [
       "array([[50, 60, 70, 80, 90],\n",
       "       [52, 62, 72, 82, 92],\n",
       "       [54, 64, 74, 84, 94],\n",
       "       [56, 66, 76, 86, 96],\n",
       "       [58, 68, 78, 88, 98]])"
      ]
     },
     "execution_count": 70,
     "metadata": {},
     "output_type": "execute_result"
    }
   ],
   "source": [
    "ra.transpose()"
   ]
  },
  {
   "cell_type": "code",
   "execution_count": 71,
   "id": "b38193e7",
   "metadata": {},
   "outputs": [
    {
     "name": "stdout",
     "output_type": "stream",
     "text": [
      "[[ 41  76  51  -1  16]\n",
      " [ 41  79 126 -10  -8]\n",
      " [ 13 127  34  51   8]\n",
      " [ 44  44  12  33 103]\n",
      " [ 71  72  11  28  87]]\n"
     ]
    }
   ],
   "source": [
    "print(r-ra)"
   ]
  },
  {
   "cell_type": "code",
   "execution_count": 72,
   "id": "bc13b665",
   "metadata": {},
   "outputs": [
    {
     "name": "stdout",
     "output_type": "stream",
     "text": [
      "[[ 4550  6656  5670  3080  4292]\n",
      " [ 6060  8742 12160  3696  4080]\n",
      " [ 5810 14328  7992  9652  6708]\n",
      " [ 9920 10332  8064 10234 16808]\n",
      " [14490 15088  9870 11904 18130]]\n"
     ]
    }
   ],
   "source": [
    "print(r*ra)"
   ]
  },
  {
   "cell_type": "code",
   "execution_count": 73,
   "id": "30c69cc4",
   "metadata": {},
   "outputs": [
    {
     "name": "stdout",
     "output_type": "stream",
     "text": [
      "[[1.82       2.46153846 1.94444444 0.98214286 1.27586207]\n",
      " [1.68333333 2.27419355 2.96875    0.84848485 0.88235294]\n",
      " [1.18571429 2.76388889 1.45945946 1.67105263 1.1025641 ]\n",
      " [1.55       1.53658537 1.14285714 1.38372093 2.17045455]\n",
      " [1.78888889 1.7826087  1.11702128 1.29166667 1.8877551 ]]\n"
     ]
    }
   ],
   "source": [
    "print(r/ra)"
   ]
  },
  {
   "cell_type": "code",
   "execution_count": 74,
   "id": "12951fb4",
   "metadata": {},
   "outputs": [
    {
     "name": "stdout",
     "output_type": "stream",
     "text": [
      "[[  333882265           0  -640853583 -1299426111           0]\n",
      " [-1643396591 -1863299175           0           0           0]\n",
      " [  609870457 -1374042431           0 -1622648319           0]\n",
      " [          0           0           0 -1283839631 -1014432255]\n",
      " [ 1696640065           0  -340201231           0  2063920817]]\n"
     ]
    }
   ],
   "source": [
    "print(r**ra)"
   ]
  },
  {
   "cell_type": "code",
   "execution_count": 75,
   "id": "ed490171",
   "metadata": {},
   "outputs": [
    {
     "name": "stdout",
     "output_type": "stream",
     "text": [
      "[560 758 604 481 596]\n"
     ]
    }
   ],
   "source": [
    "print(sum(r))"
   ]
  },
  {
   "cell_type": "code",
   "execution_count": 77,
   "id": "fc890cc2",
   "metadata": {},
   "outputs": [
    {
     "name": "stdout",
     "output_type": "stream",
     "text": [
      "[[ 91 128 105  55  74]\n",
      " [101 141 190  56  60]\n",
      " [ 83 199 108 127  86]\n",
      " [124 126  96 119 191]\n",
      " [161 164 105 124 185]]\n"
     ]
    }
   ],
   "source": [
    "print(r)"
   ]
  },
  {
   "cell_type": "code",
   "execution_count": 78,
   "id": "93e5ecce",
   "metadata": {},
   "outputs": [
    {
     "name": "stdout",
     "output_type": "stream",
     "text": [
      "[[50 52 54 56 58]\n",
      " [60 62 64 66 68]\n",
      " [70 72 74 76 78]\n",
      " [80 82 84 86 88]\n",
      " [90 92 94 96 98]]\n"
     ]
    }
   ],
   "source": [
    "print(ra)"
   ]
  },
  {
   "cell_type": "code",
   "execution_count": 79,
   "id": "85bc0b21",
   "metadata": {},
   "outputs": [
    {
     "data": {
      "text/plain": [
       "array([[30640, 31546, 32452, 33358, 34264],\n",
       "       [36690, 37786, 38882, 39978, 41074],\n",
       "       [41550, 42756, 43962, 45168, 46374],\n",
       "       [47190, 48502, 49814, 51126, 52438],\n",
       "       [51810, 53288, 54766, 56244, 57722]])"
      ]
     },
     "execution_count": 79,
     "metadata": {},
     "output_type": "execute_result"
    }
   ],
   "source": [
    "r.dot(ra)"
   ]
  },
  {
   "cell_type": "code",
   "execution_count": 80,
   "id": "cbb63fa7",
   "metadata": {},
   "outputs": [
    {
     "data": {
      "text/plain": [
       "55"
      ]
     },
     "execution_count": 80,
     "metadata": {},
     "output_type": "execute_result"
    }
   ],
   "source": [
    "r.min()"
   ]
  },
  {
   "cell_type": "code",
   "execution_count": 81,
   "id": "8da5fd09",
   "metadata": {},
   "outputs": [
    {
     "data": {
      "text/plain": [
       "199"
      ]
     },
     "execution_count": 81,
     "metadata": {},
     "output_type": "execute_result"
    }
   ],
   "source": [
    "r.max()"
   ]
  },
  {
   "cell_type": "code",
   "execution_count": 84,
   "id": "4e794f1e",
   "metadata": {},
   "outputs": [
    {
     "data": {
      "text/plain": [
       "270"
      ]
     },
     "execution_count": 84,
     "metadata": {},
     "output_type": "execute_result"
    }
   ],
   "source": [
    "sum(ra[0])"
   ]
  },
  {
   "cell_type": "code",
   "execution_count": 85,
   "id": "b0e1cced",
   "metadata": {},
   "outputs": [
    {
     "data": {
      "text/plain": [
       "array([50, 52, 54, 56, 58])"
      ]
     },
     "execution_count": 85,
     "metadata": {},
     "output_type": "execute_result"
    }
   ],
   "source": [
    "ra[0]"
   ]
  },
  {
   "cell_type": "code",
   "execution_count": 86,
   "id": "6026a98e",
   "metadata": {},
   "outputs": [
    {
     "data": {
      "text/plain": [
       "270"
      ]
     },
     "execution_count": 86,
     "metadata": {},
     "output_type": "execute_result"
    }
   ],
   "source": [
    "ra[0].sum()"
   ]
  },
  {
   "cell_type": "code",
   "execution_count": 87,
   "id": "c3f0e78e",
   "metadata": {},
   "outputs": [
    {
     "data": {
      "text/plain": [
       "78"
      ]
     },
     "execution_count": 87,
     "metadata": {},
     "output_type": "execute_result"
    }
   ],
   "source": [
    "ra[2][4]"
   ]
  },
  {
   "cell_type": "code",
   "execution_count": 95,
   "id": "01ce6672",
   "metadata": {},
   "outputs": [],
   "source": [
    "#logarithms and exponentials"
   ]
  },
  {
   "cell_type": "code",
   "execution_count": 89,
   "id": "877df42d",
   "metadata": {},
   "outputs": [
    {
     "data": {
      "text/plain": [
       "0.0"
      ]
     },
     "execution_count": 89,
     "metadata": {},
     "output_type": "execute_result"
    }
   ],
   "source": [
    "np.log(1)"
   ]
  },
  {
   "cell_type": "code",
   "execution_count": 90,
   "id": "b7b5e81e",
   "metadata": {},
   "outputs": [
    {
     "data": {
      "text/plain": [
       "2.302585092994046"
      ]
     },
     "execution_count": 90,
     "metadata": {},
     "output_type": "execute_result"
    }
   ],
   "source": [
    "np.log(10)"
   ]
  },
  {
   "cell_type": "code",
   "execution_count": 91,
   "id": "9a2f37d6",
   "metadata": {},
   "outputs": [
    {
     "data": {
      "text/plain": [
       "1.0"
      ]
     },
     "execution_count": 91,
     "metadata": {},
     "output_type": "execute_result"
    }
   ],
   "source": [
    "np.log2(2)"
   ]
  },
  {
   "cell_type": "code",
   "execution_count": 92,
   "id": "ec192504",
   "metadata": {},
   "outputs": [
    {
     "data": {
      "text/plain": [
       "0.6931471805599453"
      ]
     },
     "execution_count": 92,
     "metadata": {},
     "output_type": "execute_result"
    }
   ],
   "source": [
    "np.log(2)"
   ]
  },
  {
   "cell_type": "code",
   "execution_count": 93,
   "id": "c0b3c2a7",
   "metadata": {},
   "outputs": [
    {
     "name": "stderr",
     "output_type": "stream",
     "text": [
      "<ipython-input-93-f6e7c0610b57>:1: RuntimeWarning: divide by zero encountered in log\n",
      "  np.log(0)\n"
     ]
    },
    {
     "data": {
      "text/plain": [
       "-inf"
      ]
     },
     "execution_count": 93,
     "metadata": {},
     "output_type": "execute_result"
    }
   ],
   "source": [
    "np.log(0)"
   ]
  },
  {
   "cell_type": "code",
   "execution_count": 102,
   "id": "576e9528",
   "metadata": {},
   "outputs": [
    {
     "data": {
      "text/plain": [
       "2.0"
      ]
     },
     "execution_count": 102,
     "metadata": {},
     "output_type": "execute_result"
    }
   ],
   "source": [
    "np.log2(4)"
   ]
  },
  {
   "cell_type": "code",
   "execution_count": 101,
   "id": "5880fc34",
   "metadata": {},
   "outputs": [
    {
     "data": {
      "text/plain": [
       "2.718281828459045"
      ]
     },
     "execution_count": 101,
     "metadata": {},
     "output_type": "execute_result"
    }
   ],
   "source": [
    "np.exp(1)"
   ]
  },
  {
   "cell_type": "code",
   "execution_count": 103,
   "id": "6a598675",
   "metadata": {},
   "outputs": [
    {
     "data": {
      "text/plain": [
       "1.0"
      ]
     },
     "execution_count": 103,
     "metadata": {},
     "output_type": "execute_result"
    }
   ],
   "source": [
    "np.exp(np.log(1))"
   ]
  },
  {
   "cell_type": "code",
   "execution_count": 104,
   "id": "b0954316",
   "metadata": {},
   "outputs": [
    {
     "data": {
      "text/plain": [
       "7.38905609893065"
      ]
     },
     "execution_count": 104,
     "metadata": {},
     "output_type": "execute_result"
    }
   ],
   "source": [
    "np.exp(np.log2(4))"
   ]
  },
  {
   "cell_type": "code",
   "execution_count": 105,
   "id": "248d6571",
   "metadata": {},
   "outputs": [
    {
     "data": {
      "text/plain": [
       "1.0"
      ]
     },
     "execution_count": 105,
     "metadata": {},
     "output_type": "execute_result"
    }
   ],
   "source": [
    "np.log(np.exp(1))"
   ]
  },
  {
   "cell_type": "code",
   "execution_count": 106,
   "id": "b5359e1b",
   "metadata": {},
   "outputs": [],
   "source": [
    "#vectorized functions in numpy"
   ]
  },
  {
   "cell_type": "code",
   "execution_count": 107,
   "id": "79172a0d",
   "metadata": {},
   "outputs": [
    {
     "data": {
      "text/plain": [
       "4"
      ]
     },
     "execution_count": 107,
     "metadata": {},
     "output_type": "execute_result"
    }
   ],
   "source": [
    "def greater(a,b):\n",
    "    return a if a>b else b\n",
    "greater(3,4)"
   ]
  },
  {
   "cell_type": "code",
   "execution_count": 111,
   "id": "6225e219",
   "metadata": {},
   "outputs": [
    {
     "data": {
      "text/plain": [
       "[4, 5, 10]"
      ]
     },
     "execution_count": 111,
     "metadata": {},
     "output_type": "execute_result"
    }
   ],
   "source": [
    "greater([4,5,10],[3,11,20])"
   ]
  },
  {
   "cell_type": "code",
   "execution_count": 126,
   "id": "6f4d8f4e",
   "metadata": {},
   "outputs": [
    {
     "name": "stdout",
     "output_type": "stream",
     "text": [
      "(4, 3)\n",
      "(5, 11)\n",
      "(10, 20)\n"
     ]
    },
    {
     "data": {
      "text/plain": [
       "tuple"
      ]
     },
     "execution_count": 126,
     "metadata": {},
     "output_type": "execute_result"
    }
   ],
   "source": [
    "a,b=[4,5,10],[3,11,20]\n",
    "for i in zip(a,b):\n",
    "    print(i)\n",
    "type(i)"
   ]
  },
  {
   "cell_type": "code",
   "execution_count": 128,
   "id": "31786a96",
   "metadata": {},
   "outputs": [
    {
     "name": "stdout",
     "output_type": "stream",
     "text": [
      "4 3\n",
      "5 11\n",
      "10 20\n"
     ]
    },
    {
     "data": {
      "text/plain": [
       "int"
      ]
     },
     "execution_count": 128,
     "metadata": {},
     "output_type": "execute_result"
    }
   ],
   "source": [
    "a,b=[4,5,10],[3,11,20]\n",
    "for i,x in zip(a,b):\n",
    "    print(i,x)\n",
    "type(i)\n",
    "type(x)"
   ]
  },
  {
   "cell_type": "code",
   "execution_count": 124,
   "id": "2a078a6f",
   "metadata": {},
   "outputs": [
    {
     "name": "stdout",
     "output_type": "stream",
     "text": [
      "[4, 3]\n",
      "[5, 11]\n",
      "[10, 20]\n"
     ]
    },
    {
     "data": {
      "text/plain": [
       "list"
      ]
     },
     "execution_count": 124,
     "metadata": {},
     "output_type": "execute_result"
    }
   ],
   "source": [
    "a,b=[4,5,10],[3,11,20]\n",
    "for i,x in zip(a,b):\n",
    "    y=[i,x]\n",
    "    print(y)\n",
    "type(i)\n",
    "type(x)\n",
    "type(y)"
   ]
  },
  {
   "cell_type": "code",
   "execution_count": 121,
   "id": "7efb0ba0",
   "metadata": {},
   "outputs": [
    {
     "name": "stdout",
     "output_type": "stream",
     "text": [
      "[4, 11, 20]\n"
     ]
    }
   ],
   "source": [
    "a,b=[4,5,10],[3,11,20]\n",
    "n=[]\n",
    "for i,x in zip(a,b):\n",
    "    n.append(i) if i>x else n.append(x)\n",
    "print(n)"
   ]
  },
  {
   "cell_type": "code",
   "execution_count": 129,
   "id": "cffac25b",
   "metadata": {},
   "outputs": [
    {
     "data": {
      "text/plain": [
       "array([ 4, 11, 20])"
      ]
     },
     "execution_count": 129,
     "metadata": {},
     "output_type": "execute_result"
    }
   ],
   "source": [
    "g=np.vectorize(greater)\n",
    "g(a,b)"
   ]
  },
  {
   "cell_type": "code",
   "execution_count": null,
   "id": "096c7c17",
   "metadata": {},
   "outputs": [],
   "source": []
  }
 ],
 "metadata": {
  "kernelspec": {
   "display_name": "Python 3",
   "language": "python",
   "name": "python3"
  },
  "language_info": {
   "codemirror_mode": {
    "name": "ipython",
    "version": 3
   },
   "file_extension": ".py",
   "mimetype": "text/x-python",
   "name": "python",
   "nbconvert_exporter": "python",
   "pygments_lexer": "ipython3",
   "version": "3.8.8"
  }
 },
 "nbformat": 4,
 "nbformat_minor": 5
}
